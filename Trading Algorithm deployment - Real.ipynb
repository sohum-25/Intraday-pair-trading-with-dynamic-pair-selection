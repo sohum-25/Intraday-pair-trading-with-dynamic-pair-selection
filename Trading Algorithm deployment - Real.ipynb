{
 "cells": [
  {
   "cell_type": "code",
   "execution_count": 1,
   "id": "4a03fe91",
   "metadata": {
    "scrolled": true
   },
   "outputs": [],
   "source": [
    "from fyers_apiv3 import fyersModel\n",
    "import pandas as pd\n",
    "import datetime as dt\n",
    "from fyers_apiv3.FyersWebsocket import data_ws\n",
    "from datetime import datetime\n",
    "from historic_data import UpdateHistoricData\n",
    "import sqlite3\n",
    "import datetime"
   ]
  },
  {
   "cell_type": "code",
   "execution_count": 2,
   "id": "440c4919",
   "metadata": {},
   "outputs": [
    {
     "name": "stdout",
     "output_type": "stream",
     "text": [
      "https://api-t1.fyers.in/api/v3/generate-authcode?client_id=MRXTWL7TF2-100&redirect_uri=google.com&response_type=code&state=None\n"
     ]
    }
   ],
   "source": [
    "client_id='MRXTWL7TF2-100'\n",
    "secret_id='BQ68PJFMRK'\n",
    "url='google.com'\n",
    "response_type=\"code\"\n",
    "grant_type=\"authorization_code\"\n",
    "session=fyersModel.SessionModel(client_id=client_id,\n",
    "                               secret_key=secret_id,\n",
    "                               redirect_uri=url,\n",
    "                               response_type=response_type,\n",
    "                               grant_type=grant_type)\n",
    "response=session.generate_authcode()\n",
    "print(response)"
   ]
  },
  {
   "cell_type": "code",
   "execution_count": 3,
   "id": "69b69970",
   "metadata": {},
   "outputs": [
    {
     "ename": "KeyError",
     "evalue": "'access_token'",
     "output_type": "error",
     "traceback": [
      "\u001b[1;31m---------------------------------------------------------------------------\u001b[0m",
      "\u001b[1;31mKeyError\u001b[0m                                  Traceback (most recent call last)",
      "\u001b[1;32mc:\\Users\\Sohum\\Desktop\\Synthetic Data for Stocks\\Trading Algorithm deployment - Real.ipynb Cell 3\u001b[0m line \u001b[0;36m7\n\u001b[0;32m      <a href='vscode-notebook-cell:/c%3A/Users/Sohum/Desktop/Synthetic%20Data%20for%20Stocks/Trading%20Algorithm%20deployment%20-%20Real.ipynb#W2sZmlsZQ%3D%3D?line=4'>5</a>\u001b[0m df\u001b[39m=\u001b[39mpd\u001b[39m.\u001b[39mDataFrame()\n\u001b[0;32m      <a href='vscode-notebook-cell:/c%3A/Users/Sohum/Desktop/Synthetic%20Data%20for%20Stocks/Trading%20Algorithm%20deployment%20-%20Real.ipynb#W2sZmlsZQ%3D%3D?line=5'>6</a>\u001b[0m df\u001b[39m=\u001b[39mresponse\n\u001b[1;32m----> <a href='vscode-notebook-cell:/c%3A/Users/Sohum/Desktop/Synthetic%20Data%20for%20Stocks/Trading%20Algorithm%20deployment%20-%20Real.ipynb#W2sZmlsZQ%3D%3D?line=6'>7</a>\u001b[0m tk\u001b[39m=\u001b[39mdf[\u001b[39m'\u001b[39m\u001b[39maccess_token\u001b[39m\u001b[39m'\u001b[39m]\n\u001b[0;32m      <a href='vscode-notebook-cell:/c%3A/Users/Sohum/Desktop/Synthetic%20Data%20for%20Stocks/Trading%20Algorithm%20deployment%20-%20Real.ipynb#W2sZmlsZQ%3D%3D?line=7'>8</a>\u001b[0m tk\n\u001b[0;32m     <a href='vscode-notebook-cell:/c%3A/Users/Sohum/Desktop/Synthetic%20Data%20for%20Stocks/Trading%20Algorithm%20deployment%20-%20Real.ipynb#W2sZmlsZQ%3D%3D?line=10'>11</a>\u001b[0m file_path \u001b[39m=\u001b[39m \u001b[39mr\u001b[39m\u001b[39m'\u001b[39m\u001b[39mC:\u001b[39m\u001b[39m\\\u001b[39m\u001b[39mUsers\u001b[39m\u001b[39m\\\u001b[39m\u001b[39mSohum\u001b[39m\u001b[39m\\\u001b[39m\u001b[39mDesktop\u001b[39m\u001b[39m\\\u001b[39m\u001b[39mSynthetic Data for Stocks\u001b[39m\u001b[39m\\\u001b[39m\u001b[39mtoken.txt\u001b[39m\u001b[39m'\u001b[39m\n",
      "\u001b[1;31mKeyError\u001b[0m: 'access_token'"
     ]
    }
   ],
   "source": [
    "\n",
    "auth_code=\"eyJ0eXAiOiJKV1QiLCJhbGciOiJIUzI1NiJ9.eyJpc3MiOiJhcGkubG9naW4uZnllcnMuaW4iLCJpYXQiOjE3MDA1Mzc1NzUsImV4cCI6MTcwMDU2NzU3NSwibmJmIjoxNzAwNTM2OTc1LCJhdWQiOiJbXCJ4OjBcIiwgXCJ4OjFcIiwgXCJ4OjJcIiwgXCJkOjFcIiwgXCJkOjJcIiwgXCJ4OjFcIiwgXCJ4OjBcIl0iLCJzdWIiOiJhdXRoX2NvZGUiLCJkaXNwbGF5X25hbWUiOiJYUzU1MDgzIiwib21zIjoiSzEiLCJoc21fa2V5IjoiNTNmYWQ4YjhiOGQzOTU3OGNkNDAxMmEzMzBmMjU2NTFlYTU2ZTIyYjA1MDM5OWEwZjllYzI2YTYiLCJub25jZSI6IiIsImFwcF9pZCI6Ik1SWFRXTDdURjIiLCJ1dWlkIjoiN2RiZWNjNmNiYzQ1NDc2YWJiOGFlMjdmYzhhMjc3MmYiLCJpcEFkZHIiOiIwLjAuMC4wIiwic2NvcGUiOiIifQ.kPqufTVB6Wdzh-xMaW9DZsW5k1tMF4yLa3Bi5GXuBec\"\n",
    "\n",
    "session.set_token(auth_code)\n",
    "response=session.generate_token()\n",
    "df=pd.DataFrame()\n",
    "df=response\n",
    "tk=df['access_token']\n",
    "tk\n",
    "\n",
    "\n",
    "file_path = r'C:\\Users\\Sohum\\Desktop\\Synthetic Data for Stocks\\token.txt'\n",
    "\n",
    "# Write the 'tk' value to the file\n",
    "with open(file_path, 'w') as file:\n",
    "    file.write(tk)\n",
    "\n",
    "print(f\"Token 'tk' saved to {file_path}\")"
   ]
  },
  {
   "cell_type": "code",
   "execution_count": 4,
   "id": "86c0fba2",
   "metadata": {},
   "outputs": [],
   "source": [
    "fyers=fyersModel.FyersModel(client_id=client_id,is_async=False,token=tk,log_path=\"\")"
   ]
  },
  {
   "cell_type": "code",
   "execution_count": 46,
   "metadata": {},
   "outputs": [
    {
     "name": "stdout",
     "output_type": "stream",
     "text": [
      "[*********************100%***********************]  101 of 101 completed\n",
      "[*********************100%***********************]  20 of 20 completed\n",
      "752 Index(['AMBUJACEM', 'BPCL', 'COALINDIA', 'DABUR', 'DMART', 'EICHERMOT',\n",
      "       'HEROMOTOCO', 'ICICIBANK', 'IOC', 'ITC', 'MARUTI', 'MCDOWELL-N',\n",
      "       'MUTHOOTFIN', 'NAUKRI', 'ONGC', 'TATACONSUM', 'TATAMTRDVR', 'TRENT',\n",
      "       'ULTRACEMCO', 'ZOMATO'],\n",
      "      dtype='object')\n",
      "DB updated\n",
      "['NAUKRI', 'ZOMATO', 'TATACONSUM', 'MCDOWELL-N', 'AMBUJACEM', 'ULTRACEMCO', 'COALINDIA', 'ONGC', 'DABUR', 'ITC', 'ICICIBANK', 'MUTHOOTFIN', 'EICHERMOT', 'HEROMOTOCO', 'BPCL', 'IOC', 'DMART', 'TRENT', 'MARUTI', 'TATAMTRDVR']\n"
     ]
    }
   ],
   "source": [
    "csv_path = 'ind_nifty100list (1).csv'\n",
    "Symbolz = UpdateHistoricData(csv_path)\n",
    "\n",
    "# Specify the file path\n",
    "file_path = r'C:\\Users\\Sohum\\Desktop\\Synthetic Data for Stocks\\symbolz.txt'\n",
    "\n",
    "# Save the 'Symbolz' list as a text file\n",
    "with open(file_path, 'w') as file:\n",
    "    for symbol in Symbolz:\n",
    "        file.write(symbol + '\\n')\n",
    "\n",
    "\n",
    "\n",
    "file_path = r'C:\\Users\\Sohum\\Desktop\\Synthetic Data for Stocks\\symbolz.txt'\n",
    "Symbolz = []\n",
    "with open(file_path, 'r') as file:\n",
    "    for line in file:\n",
    "        symbol = line.strip()\n",
    "        Symbolz.append(symbol)\n",
    "symbol_list=Symbolz\n",
    "print(symbol_list)"
   ]
  },
  {
   "cell_type": "code",
   "execution_count": 34,
   "id": "adc23cda",
   "metadata": {},
   "outputs": [
    {
     "data": {
      "text/plain": [
       "['NSE:ITC-EQ',\n",
       " 'NSE:DABUR-EQ',\n",
       " 'NSE:BPCL-EQ',\n",
       " 'NSE:IOC-EQ',\n",
       " 'NSE:AMBUJACEM-EQ',\n",
       " 'NSE:ZOMATO-EQ',\n",
       " 'NSE:ULTRACEMCO-EQ',\n",
       " 'NSE:TATAMTRDVR-EQ',\n",
       " 'NSE:MCDOWELL-N-EQ',\n",
       " 'NSE:ONGC-EQ',\n",
       " 'NSE:DMART-EQ',\n",
       " 'NSE:COALINDIA-EQ',\n",
       " 'NSE:HEROMOTOCO-EQ',\n",
       " 'NSE:MARUTI-EQ',\n",
       " 'NSE:ICICIBANK-EQ',\n",
       " 'NSE:NAUKRI-EQ',\n",
       " 'NSE:EICHERMOT-EQ',\n",
       " 'NSE:TATACONSUM-EQ',\n",
       " 'NSE:TRENT-EQ',\n",
       " 'NSE:MUTHOOTFIN-EQ']"
      ]
     },
     "execution_count": 34,
     "metadata": {},
     "output_type": "execute_result"
    }
   ],
   "source": [
    "\n",
    "list_of_symbols=[f'NSE:{item}-EQ' for item in symbol_list]\n",
    "list_of_symbols=list(set(list_of_symbols))\n",
    "list_of_symbols"
   ]
  },
  {
   "cell_type": "code",
   "execution_count": 35,
   "id": "deac2a0b",
   "metadata": {},
   "outputs": [],
   "source": [
    "\n",
    "# Connect to the database\n",
    "conn = sqlite3.connect('tick_data2.db')\n",
    "\n",
    "# Create a cursor object to execute SQL commands\n",
    "cursor = conn.cursor()\n",
    "\n",
    "# List of table names\n",
    "table_names = ['tick_data2']\n",
    "\n",
    "# Loop through the tables and truncate them\n",
    "for table_name in table_names:\n",
    "    # Construct and execute an SQL command to delete all rows in the table\n",
    "    truncate_query = f'DELETE FROM {table_name}'\n",
    "    cursor.execute(truncate_query)\n",
    "\n",
    "# Commit the changes and close the connection\n",
    "conn.commit()\n",
    "conn.close()\n"
   ]
  },
  {
   "cell_type": "code",
   "execution_count": 36,
   "id": "6fac12df",
   "metadata": {},
   "outputs": [
    {
     "data": {
      "text/plain": [
       "<sqlite3.Cursor at 0x26dac2e1ec0>"
      ]
     },
     "execution_count": 36,
     "metadata": {},
     "output_type": "execute_result"
    }
   ],
   "source": [
    "conn = sqlite3.connect(\"tick_data2.db\")\n",
    "cursor = conn.cursor()\n",
    "create_table_sql = \"\"\"\n",
    "CREATE TABLE IF NOT EXISTS tick_data2 (\n",
    "    Datetime REAL,\n",
    "    symbol TEXT,\n",
    "    ltp REAL\n",
    ");\n",
    "\"\"\"\n",
    "\n",
    "# Execute the SQL command to create the table\n",
    "cursor.execute(create_table_sql)\n",
    "\n"
   ]
  },
  {
   "cell_type": "markdown",
   "id": "39e08806",
   "metadata": {},
   "source": [
    "# This is the API endpoint that recieves the Data"
   ]
  },
  {
   "cell_type": "code",
   "execution_count": 37,
   "id": "781b5e1b",
   "metadata": {
    "scrolled": true
   },
   "outputs": [
    {
     "name": "stdout",
     "output_type": "stream",
     "text": [
      "Error: 'symbol'\n",
      "Error: 'symbol'\n"
     ]
    },
    {
     "name": "stdout",
     "output_type": "stream",
     "text": [
      "Error: 'symbol'\n",
      "Stored data in the database - Datetime: 2023-11-08 02:47:40, Symbol: ONGC, LTP: 193.2\n",
      "Stored data in the database - Datetime: 2023-11-08 02:47:40, Symbol: TATACONSUM, LTP: 922.05\n",
      "Stored data in the database - Datetime: 2023-11-08 02:47:40, Symbol: AMBUJACEM, LTP: 419.55\n",
      "Stored data in the database - Datetime: 2023-11-08 02:47:40, Symbol: MARUTI, LTP: 10253.3\n",
      "Stored data in the database - Datetime: 2023-11-08 02:47:40, Symbol: ICICIBANK, LTP: 948.1\n",
      "Stored data in the database - Datetime: 2023-11-08 02:47:40, Symbol: MUTHOOTFIN, LTP: 1336.35\n",
      "Stored data in the database - Datetime: 2023-11-08 02:47:40, Symbol: EICHERMOT, LTP: 3509.05\n",
      "Stored data in the database - Datetime: 2023-11-08 02:47:40, Symbol: BPCL, LTP: 372.8\n",
      "Stored data in the database - Datetime: 2023-11-08 02:47:40, Symbol: ZOMATO, LTP: 121.3\n",
      "Stored data in the database - Datetime: 2023-11-08 02:47:40, Symbol: COALINDIA, LTP: 314.25\n",
      "Stored data in the database - Datetime: 2023-11-08 02:47:40, Symbol: ITC, LTP: 432.7\n",
      "Stored data in the database - Datetime: 2023-11-08 02:47:40, Symbol: DABUR, LTP: 536.1\n",
      "Stored data in the database - Datetime: 2023-11-08 02:47:40, Symbol: DMART, LTP: 3653.3\n",
      "Stored data in the database - Datetime: 2023-11-08 02:47:40, Symbol: NAUKRI, LTP: 4340.05\n",
      "Stored data in the database - Datetime: 2023-11-08 02:47:40, Symbol: IOC, LTP: 104.05\n",
      "Stored data in the database - Datetime: 2023-11-08 02:47:40, Symbol: HEROMOTOCO, LTP: 3130.25\n",
      "Stored data in the database - Datetime: 2023-11-08 02:47:40, Symbol: TRENT, LTP: 2424.0\n",
      "Stored data in the database - Datetime: 2023-11-08 02:47:40, Symbol: MCDOWELL-N, LTP: 1082.7\n",
      "Stored data in the database - Datetime: 2023-11-08 02:47:40, Symbol: ULTRACEMCO, LTP: 8685.75\n",
      "Stored data in the database - Datetime: 2023-11-08 02:47:41, Symbol: TATAMTRDVR, LTP: 433.35\n"
     ]
    }
   ],
   "source": [
    "\n",
    "\n",
    "def onmessage(message):\n",
    "    try:\n",
    "        data = message\n",
    "        symbol = data['symbol'].replace('NSE:', '').replace('-EQ', '') \n",
    "        ltp = data['ltp']\n",
    "        Datetime = datetime.datetime.now().strftime(\"%Y-%m-%d %H:%M:%S\")\n",
    "\n",
    "        # Establish a connection to the SQLite database in this thread\n",
    "        db_connection = sqlite3.connect('tick_data2.db')\n",
    "        cursor = db_connection.cursor()\n",
    "\n",
    "        # Insert the data into the database\n",
    "        cursor.execute(\"INSERT INTO tick_data2 (Datetime, symbol, ltp) VALUES (?, ?, ?)\", (Datetime, symbol, ltp))\n",
    "        db_connection.commit()\n",
    "        db_connection.close()  # Close the connection in the same thread\n",
    "\n",
    "        print(\"Stored data in the database - Datetime: {}, Symbol: {}, LTP: {}\".format(Datetime, symbol, ltp))\n",
    "\n",
    "    except Exception as e:\n",
    "        print(\"Error:\", e)\n",
    "    \n",
    "    \n",
    "    \n",
    "\n",
    "\n",
    "def onerror(message):\n",
    "    print(\"Error\",message)\n",
    "    \n",
    "\n",
    "def onopen():\n",
    "    data_type=\"SymbolUpdate\"\n",
    "    \n",
    "    symbols=list_of_symbols\n",
    "    fyers.subscribe(symbols=symbols,data_type=data_type)\n",
    "    \n",
    "    fyers.keep_running()\n",
    "    \n",
    "w_access_token=client_id+\":\"+tk\n",
    "\n",
    "fyers = data_ws.FyersDataSocket(\n",
    "    access_token=w_access_token,       # Access token in the format \"appid:accesstoken\"\n",
    "    log_path=\"\",                     # Path to save logs. Leave empty to auto-create logs in the current directory.\n",
    "    litemode=True,                  # Lite mode disabled. Set to True if you want a lite response.\n",
    "    write_to_file=False,              # Save response in a log file instead of printing it.\n",
    "    reconnect=True,                  # Enable auto-reconnection to WebSocket on disconnection.\n",
    "    on_connect=onopen,               # Callback function to subscribe to data upon connection.\n",
    "            # Callback function to handle WebSocket connection close events.\n",
    "    on_error=onerror,                # Callback function to handle WebSocket errors.\n",
    "    on_message=onmessage             # Callback function to handle incoming messages from the WebSocket.\n",
    ")\n",
    "\n",
    "# Establish a connection to the Fyers WebSocket\n",
    "fyers.connect()\n"
   ]
  },
  {
   "cell_type": "code",
   "execution_count": null,
   "id": "882c4a45",
   "metadata": {},
   "outputs": [],
   "source": [
    "db_connection = sqlite3.connect('tick_data2.db')\n",
    "# Perform database operations\n",
    "db_connection.close()\n",
    "print('Done')"
   ]
  },
  {
   "cell_type": "code",
   "execution_count": 11,
   "metadata": {},
   "outputs": [
    {
     "name": "stdout",
     "output_type": "stream",
     "text": [
      "{'code': 200, 'message': '', 'data': [{'statusCode': 200, 'body': {'code': 1101, 'message': 'Successfully placed order', 's': 'ok', 'id': '23110800136570'}, 'statusDescription': 'OK'}, {'statusCode': 200, 'body': {'code': 1101, 'message': 'Successfully placed order', 's': 'ok', 'id': '23110800136573'}, 'statusDescription': 'OK'}], 's': 'ok'}\n"
     ]
    }
   ],
   "source": [
    "data = [{\n",
    "    \"symbol\":\"NSE:ICICIPRULI-EQ\",\n",
    "    \"qty\":3,\n",
    "    \"type\":2,\n",
    "    \"side\":1,\n",
    "    \"productType\":\"INTRADAY\",\n",
    "    \"limitPrice\":0,\n",
    "    \"stopPrice\":0,\n",
    "    \"validity\":\"DAY\",\n",
    "    \"disclosedQty\":0,\n",
    "    \"offlineOrder\":False,\n",
    "},\n",
    "{\n",
    "    \"symbol\":\"NSE:INDUSINDBK-EQ\",\n",
    "    \"qty\":1,\n",
    "    \"type\":2,\n",
    "    \"side\":-1,\n",
    "    \"productType\":\"INTRADAY\",\n",
    "    \"limitPrice\":0,\n",
    "    \"stopPrice\":0,\n",
    "    \"validity\":\"DAY\",\n",
    "    \"disclosedQty\":0,\n",
    "    \"offlineOrder\":False,\n",
    "}]\n",
    "\n",
    "response = fyers.place_basket_orders(data=data)\n",
    "print(response)"
   ]
  },
  {
   "cell_type": "code",
   "execution_count": 5,
   "metadata": {},
   "outputs": [
    {
     "data": {
      "text/plain": [
       "{'code': -352,\n",
       " 'message': 'Looks like you have no open positions.',\n",
       " 's': 'error'}"
      ]
     },
     "execution_count": 5,
     "metadata": {},
     "output_type": "execute_result"
    }
   ],
   "source": [
    "fyers.exit_positions()"
   ]
  },
  {
   "cell_type": "code",
   "execution_count": 60,
   "metadata": {},
   "outputs": [
    {
     "data": {
      "text/plain": [
       "'23111600264652'"
      ]
     },
     "execution_count": 60,
     "metadata": {},
     "output_type": "execute_result"
    }
   ],
   "source": [
    "fyers.orderbook()['orderBook'][0]['id']"
   ]
  },
  {
   "cell_type": "code",
   "execution_count": 112,
   "metadata": {},
   "outputs": [
    {
     "data": {
      "text/plain": [
       "{'code': -352,\n",
       " 'message': 'Looks like you have no open positions.',\n",
       " 's': 'error'}"
      ]
     },
     "execution_count": 112,
     "metadata": {},
     "output_type": "execute_result"
    }
   ],
   "source": [
    "fyers.exit_positions({'id':['NSE:HDFCBANK-EQ-INTRADAY']})"
   ]
  },
  {
   "cell_type": "code",
   "execution_count": 120,
   "metadata": {},
   "outputs": [
    {
     "name": "stdout",
     "output_type": "stream",
     "text": [
      "{'id': ['NSE:ICICI-EQ-INTRADAY', 'NSE:HDFCBANK-EQ-INTRADAY']}\n"
     ]
    }
   ],
   "source": [
    "order_ids_dict = {\"id\": []}\n",
    "symbol1Socket = \"NSE:\" + 'ICICI' + \"-EQ\"\n",
    "symbol2Socket = \"NSE:\" + 'HDFCBANK' + \"-EQ\"\n",
    "order_ids_dict[\"id\"].append(symbol1Socket+'-INTRADAY')\n",
    "order_ids_dict[\"id\"].append(symbol2Socket+'-INTRADAY')\n",
    "\n",
    "# Print the resulting dictionary\n",
    "print(order_ids_dict)\n"
   ]
  },
  {
   "cell_type": "code",
   "execution_count": 129,
   "metadata": {},
   "outputs": [],
   "source": [
    "Stocks=pd.read_csv('ind_nifty100list (1).csv')"
   ]
  },
  {
   "cell_type": "code",
   "execution_count": 141,
   "metadata": {},
   "outputs": [
    {
     "name": "stdout",
     "output_type": "stream",
     "text": [
      "[*********************100%***********************]  5 of 5 completed\n"
     ]
    }
   ],
   "source": [
    "import yfinance as yf\n",
    "\n",
    "correlation = yf.download(tickers=(Stocks['Symbol']+'.NS').to_list()[0:5], period='30d', interval='2m')['Close']\n",
    "correlation.index = correlation.index.tz_convert('Asia/Kolkata')\n"
   ]
  },
  {
   "cell_type": "code",
   "execution_count": 142,
   "metadata": {},
   "outputs": [
    {
     "name": "stderr",
     "output_type": "stream",
     "text": [
      "C:\\Users\\Sohum\\AppData\\Local\\Temp\\ipykernel_26000\\3344576374.py:2: FutureWarning: Indexing a timezone-aware DatetimeIndex with a timezone-naive datetime is deprecated and will raise KeyError in a future version. Use a timezone-aware object instead.\n",
      "  correlation=correlation.loc[uniqedates[-11]:uniqedates[-1]]\n"
     ]
    }
   ],
   "source": [
    "uniqedates=sorted(list(set(correlation.index.date)))\n",
    "correlation=correlation.loc[uniqedates[-11]:uniqedates[-1]]"
   ]
  },
  {
   "cell_type": "code",
   "execution_count": 137,
   "metadata": {},
   "outputs": [
    {
     "data": {
      "text/plain": [
       "10"
      ]
     },
     "execution_count": 137,
     "metadata": {},
     "output_type": "execute_result"
    }
   ],
   "source": [
    "len(uniqedates[-11:-1])"
   ]
  },
  {
   "cell_type": "code",
   "execution_count": 6,
   "metadata": {},
   "outputs": [],
   "source": [
    "df=pd.DataFrame(fyers.orderbook()['orderBook'])"
   ]
  },
  {
   "cell_type": "code",
   "execution_count": 11,
   "metadata": {},
   "outputs": [
    {
     "data": {
      "text/plain": [
       "{'code': 200,\n",
       " 'message': '',\n",
       " 's': 'ok',\n",
       " 'fund_limit': [{'id': 1,\n",
       "   'title': 'Total Balance',\n",
       "   'equityAmount': 19549.49,\n",
       "   'commodityAmount': 0},\n",
       "  {'id': 2,\n",
       "   'title': 'Utilized Amount',\n",
       "   'equityAmount': 0,\n",
       "   'commodityAmount': 0},\n",
       "  {'id': 3,\n",
       "   'title': 'Clear Balance',\n",
       "   'equityAmount': 19549.49,\n",
       "   'commodityAmount': 0},\n",
       "  {'id': 4,\n",
       "   'title': 'Realized Profit and Loss',\n",
       "   'equityAmount': 0,\n",
       "   'commodityAmount': 0},\n",
       "  {'id': 5, 'title': 'Collaterals', 'equityAmount': 0, 'commodityAmount': 0},\n",
       "  {'id': 6, 'title': 'Fund Transfer', 'equityAmount': 0, 'commodityAmount': 0},\n",
       "  {'id': 7, 'title': 'Receivables', 'equityAmount': 0, 'commodityAmount': 0},\n",
       "  {'id': 8, 'title': 'Adhoc Limit', 'equityAmount': 0, 'commodityAmount': 0},\n",
       "  {'id': 9,\n",
       "   'title': 'Limit at start of the day',\n",
       "   'equityAmount': 19549.49,\n",
       "   'commodityAmount': 0},\n",
       "  {'id': 10,\n",
       "   'title': 'Available Balance',\n",
       "   'equityAmount': 19549.49,\n",
       "   'commodityAmount': 0}]}"
      ]
     },
     "execution_count": 11,
     "metadata": {},
     "output_type": "execute_result"
    }
   ],
   "source": [
    "fyers.funds()"
   ]
  },
  {
   "cell_type": "code",
   "execution_count": 9,
   "metadata": {},
   "outputs": [],
   "source": [
    "df=df[['id',\n",
    " 'qty',\n",
    " 'symbol',\n",
    " 'orderDateTime',\n",
    " 'side',\n",
    " 'tradedPrice',\n",
    " 'orderNumStatus',\n",
    " 'slNo']]"
   ]
  },
  {
   "cell_type": "code",
   "execution_count": 35,
   "metadata": {},
   "outputs": [],
   "source": [
    "database_path = r'C:\\Users\\Sohum\\Desktop\\Synthetic Data for Stocks\\tick_data2.db'\n",
    "conn = sqlite3.connect(database_path)\n",
    "\n",
    "# Save the DataFrame to the \"Trades\" table\n",
    "df.to_sql('Trades', conn, index=False, if_exists='replace')\n",
    "\n",
    "# Close the connection\n",
    "conn.close()"
   ]
  },
  {
   "cell_type": "code",
   "execution_count": 32,
   "metadata": {},
   "outputs": [],
   "source": [
    "trades_df=df"
   ]
  },
  {
   "cell_type": "code",
   "execution_count": null,
   "metadata": {},
   "outputs": [],
   "source": [
    "trades_df['turnover']=-1*trades_df['qty']*trades_df['tradedPrice']*trades_df['side']\n",
    "trades_df"
   ]
  },
  {
   "cell_type": "code",
   "execution_count": 48,
   "metadata": {},
   "outputs": [
    {
     "data": {
      "text/plain": [
       "159.5299999999952"
      ]
     },
     "execution_count": 48,
     "metadata": {},
     "output_type": "execute_result"
    }
   ],
   "source": [
    "(trades_df['turnover']).sum()"
   ]
  },
  {
   "cell_type": "code",
   "execution_count": 7,
   "metadata": {},
   "outputs": [
    {
     "data": {
      "text/plain": [
       "{'id': 9,\n",
       " 'title': 'Limit at start of the day',\n",
       " 'equityAmount': 19549.49,\n",
       " 'commodityAmount': 0}"
      ]
     },
     "execution_count": 7,
     "metadata": {},
     "output_type": "execute_result"
    }
   ],
   "source": [
    "fyers.funds()['fund_limit'][8]"
   ]
  }
 ],
 "metadata": {
  "kernelspec": {
   "display_name": "Python 3 (ipykernel)",
   "language": "python",
   "name": "python3"
  },
  "language_info": {
   "codemirror_mode": {
    "name": "ipython",
    "version": 3
   },
   "file_extension": ".py",
   "mimetype": "text/x-python",
   "name": "python",
   "nbconvert_exporter": "python",
   "pygments_lexer": "ipython3",
   "version": "3.10.6"
  }
 },
 "nbformat": 4,
 "nbformat_minor": 5
}
